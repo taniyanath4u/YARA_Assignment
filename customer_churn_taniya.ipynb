{
 "cells": [
  {
   "cell_type": "markdown",
   "id": "140e3999",
   "metadata": {},
   "source": [
    "# Customer Churn Analysis"
   ]
  },
  {
   "cell_type": "code",
   "execution_count": 1,
   "id": "eb6f1542",
   "metadata": {},
   "outputs": [],
   "source": [
    "import numpy as np \n",
    "import pandas as pd \n",
    "import seaborn as sns \n",
    "import matplotlib.ticker as mtick  \n",
    "import matplotlib.pyplot as plt\n",
    "%matplotlib inline"
   ]
  },
  {
   "cell_type": "code",
   "execution_count": 2,
   "id": "f065f482",
   "metadata": {},
   "outputs": [],
   "source": [
    "df = pd.read_excel('/Users/manojnath/Library/Containers/com.microsoft.Excel/Data/Downloads/Customer Churn.xlsx')"
   ]
  },
  {
   "cell_type": "code",
   "execution_count": 3,
   "id": "9dd63484",
   "metadata": {},
   "outputs": [
    {
     "data": {
      "text/html": [
       "<div>\n",
       "<style scoped>\n",
       "    .dataframe tbody tr th:only-of-type {\n",
       "        vertical-align: middle;\n",
       "    }\n",
       "\n",
       "    .dataframe tbody tr th {\n",
       "        vertical-align: top;\n",
       "    }\n",
       "\n",
       "    .dataframe thead th {\n",
       "        text-align: right;\n",
       "    }\n",
       "</style>\n",
       "<table border=\"1\" class=\"dataframe\">\n",
       "  <thead>\n",
       "    <tr style=\"text-align: right;\">\n",
       "      <th></th>\n",
       "      <th>CustomerID</th>\n",
       "      <th>Count</th>\n",
       "      <th>Country</th>\n",
       "      <th>State</th>\n",
       "      <th>City</th>\n",
       "      <th>Zip Code</th>\n",
       "      <th>Lat Long</th>\n",
       "      <th>Latitude</th>\n",
       "      <th>Longitude</th>\n",
       "      <th>Gender</th>\n",
       "      <th>...</th>\n",
       "      <th>Tech Support</th>\n",
       "      <th>Streaming TV</th>\n",
       "      <th>Streaming Movies</th>\n",
       "      <th>Contract</th>\n",
       "      <th>Paperless Billing</th>\n",
       "      <th>Payment Method</th>\n",
       "      <th>Monthly Charges</th>\n",
       "      <th>Total Charges</th>\n",
       "      <th>Churn Label</th>\n",
       "      <th>Churn Reason</th>\n",
       "    </tr>\n",
       "  </thead>\n",
       "  <tbody>\n",
       "    <tr>\n",
       "      <th>0</th>\n",
       "      <td>3668-QPYBK</td>\n",
       "      <td>1</td>\n",
       "      <td>United States</td>\n",
       "      <td>California</td>\n",
       "      <td>Los Angeles</td>\n",
       "      <td>90003</td>\n",
       "      <td>33.964131, -118.272783</td>\n",
       "      <td>33.964131</td>\n",
       "      <td>-118.272783</td>\n",
       "      <td>Male</td>\n",
       "      <td>...</td>\n",
       "      <td>No</td>\n",
       "      <td>No</td>\n",
       "      <td>No</td>\n",
       "      <td>Month-to-month</td>\n",
       "      <td>Yes</td>\n",
       "      <td>Mailed check</td>\n",
       "      <td>53.85</td>\n",
       "      <td>108.15</td>\n",
       "      <td>Yes</td>\n",
       "      <td>Competitor made better offer</td>\n",
       "    </tr>\n",
       "    <tr>\n",
       "      <th>1</th>\n",
       "      <td>9237-HQITU</td>\n",
       "      <td>1</td>\n",
       "      <td>United States</td>\n",
       "      <td>California</td>\n",
       "      <td>Los Angeles</td>\n",
       "      <td>90005</td>\n",
       "      <td>34.059281, -118.30742</td>\n",
       "      <td>34.059281</td>\n",
       "      <td>-118.307420</td>\n",
       "      <td>Female</td>\n",
       "      <td>...</td>\n",
       "      <td>No</td>\n",
       "      <td>No</td>\n",
       "      <td>No</td>\n",
       "      <td>Month-to-month</td>\n",
       "      <td>Yes</td>\n",
       "      <td>Electronic check</td>\n",
       "      <td>70.70</td>\n",
       "      <td>151.65</td>\n",
       "      <td>Yes</td>\n",
       "      <td>Moved</td>\n",
       "    </tr>\n",
       "    <tr>\n",
       "      <th>2</th>\n",
       "      <td>9305-CDSKC</td>\n",
       "      <td>1</td>\n",
       "      <td>United States</td>\n",
       "      <td>California</td>\n",
       "      <td>Los Angeles</td>\n",
       "      <td>90006</td>\n",
       "      <td>34.048013, -118.293953</td>\n",
       "      <td>34.048013</td>\n",
       "      <td>-118.293953</td>\n",
       "      <td>Female</td>\n",
       "      <td>...</td>\n",
       "      <td>No</td>\n",
       "      <td>Yes</td>\n",
       "      <td>Yes</td>\n",
       "      <td>Month-to-month</td>\n",
       "      <td>Yes</td>\n",
       "      <td>Electronic check</td>\n",
       "      <td>99.65</td>\n",
       "      <td>820.5</td>\n",
       "      <td>Yes</td>\n",
       "      <td>Moved</td>\n",
       "    </tr>\n",
       "    <tr>\n",
       "      <th>3</th>\n",
       "      <td>7892-POOKP</td>\n",
       "      <td>1</td>\n",
       "      <td>United States</td>\n",
       "      <td>California</td>\n",
       "      <td>Los Angeles</td>\n",
       "      <td>90010</td>\n",
       "      <td>34.062125, -118.315709</td>\n",
       "      <td>34.062125</td>\n",
       "      <td>-118.315709</td>\n",
       "      <td>Female</td>\n",
       "      <td>...</td>\n",
       "      <td>Yes</td>\n",
       "      <td>Yes</td>\n",
       "      <td>Yes</td>\n",
       "      <td>Month-to-month</td>\n",
       "      <td>Yes</td>\n",
       "      <td>Electronic check</td>\n",
       "      <td>104.80</td>\n",
       "      <td>3046.05</td>\n",
       "      <td>Yes</td>\n",
       "      <td>Moved</td>\n",
       "    </tr>\n",
       "    <tr>\n",
       "      <th>4</th>\n",
       "      <td>0280-XJGEX</td>\n",
       "      <td>1</td>\n",
       "      <td>United States</td>\n",
       "      <td>California</td>\n",
       "      <td>Los Angeles</td>\n",
       "      <td>90015</td>\n",
       "      <td>34.039224, -118.266293</td>\n",
       "      <td>34.039224</td>\n",
       "      <td>-118.266293</td>\n",
       "      <td>Male</td>\n",
       "      <td>...</td>\n",
       "      <td>No</td>\n",
       "      <td>Yes</td>\n",
       "      <td>Yes</td>\n",
       "      <td>Month-to-month</td>\n",
       "      <td>Yes</td>\n",
       "      <td>Bank transfer (automatic)</td>\n",
       "      <td>103.70</td>\n",
       "      <td>5036.3</td>\n",
       "      <td>Yes</td>\n",
       "      <td>Competitor had better devices</td>\n",
       "    </tr>\n",
       "  </tbody>\n",
       "</table>\n",
       "<p>5 rows × 30 columns</p>\n",
       "</div>"
      ],
      "text/plain": [
       "   CustomerID  Count        Country       State         City  Zip Code  \\\n",
       "0  3668-QPYBK      1  United States  California  Los Angeles     90003   \n",
       "1  9237-HQITU      1  United States  California  Los Angeles     90005   \n",
       "2  9305-CDSKC      1  United States  California  Los Angeles     90006   \n",
       "3  7892-POOKP      1  United States  California  Los Angeles     90010   \n",
       "4  0280-XJGEX      1  United States  California  Los Angeles     90015   \n",
       "\n",
       "                 Lat Long   Latitude   Longitude  Gender  ... Tech Support  \\\n",
       "0  33.964131, -118.272783  33.964131 -118.272783    Male  ...           No   \n",
       "1   34.059281, -118.30742  34.059281 -118.307420  Female  ...           No   \n",
       "2  34.048013, -118.293953  34.048013 -118.293953  Female  ...           No   \n",
       "3  34.062125, -118.315709  34.062125 -118.315709  Female  ...          Yes   \n",
       "4  34.039224, -118.266293  34.039224 -118.266293    Male  ...           No   \n",
       "\n",
       "  Streaming TV Streaming Movies        Contract Paperless Billing  \\\n",
       "0           No               No  Month-to-month               Yes   \n",
       "1           No               No  Month-to-month               Yes   \n",
       "2          Yes              Yes  Month-to-month               Yes   \n",
       "3          Yes              Yes  Month-to-month               Yes   \n",
       "4          Yes              Yes  Month-to-month               Yes   \n",
       "\n",
       "              Payment Method Monthly Charges Total Charges Churn Label  \\\n",
       "0               Mailed check           53.85        108.15         Yes   \n",
       "1           Electronic check           70.70        151.65         Yes   \n",
       "2           Electronic check           99.65         820.5         Yes   \n",
       "3           Electronic check          104.80       3046.05         Yes   \n",
       "4  Bank transfer (automatic)          103.70        5036.3         Yes   \n",
       "\n",
       "                    Churn Reason  \n",
       "0   Competitor made better offer  \n",
       "1                          Moved  \n",
       "2                          Moved  \n",
       "3                          Moved  \n",
       "4  Competitor had better devices  \n",
       "\n",
       "[5 rows x 30 columns]"
      ]
     },
     "execution_count": 3,
     "metadata": {},
     "output_type": "execute_result"
    }
   ],
   "source": [
    "df.head()"
   ]
  },
  {
   "cell_type": "code",
   "execution_count": 4,
   "id": "0baa5d06",
   "metadata": {},
   "outputs": [
    {
     "data": {
      "text/plain": [
       "(7043, 30)"
      ]
     },
     "execution_count": 4,
     "metadata": {},
     "output_type": "execute_result"
    }
   ],
   "source": [
    "df.shape"
   ]
  },
  {
   "cell_type": "markdown",
   "id": "72931385",
   "metadata": {},
   "source": [
    "# Data Cleaning"
   ]
  },
  {
   "cell_type": "code",
   "execution_count": 5,
   "id": "e7fae489",
   "metadata": {},
   "outputs": [
    {
     "data": {
      "text/plain": [
       "CustomerID            object\n",
       "Count                  int64\n",
       "Country               object\n",
       "State                 object\n",
       "City                  object\n",
       "Zip Code               int64\n",
       "Lat Long              object\n",
       "Latitude             float64\n",
       "Longitude            float64\n",
       "Gender                object\n",
       "Senior Citizen        object\n",
       "Partner               object\n",
       "Dependents            object\n",
       "Tenure Months          int64\n",
       "Phone Service         object\n",
       "Multiple Lines        object\n",
       "Internet Service      object\n",
       "Online Security       object\n",
       "Online Backup         object\n",
       "Device Protection     object\n",
       "Tech Support          object\n",
       "Streaming TV          object\n",
       "Streaming Movies      object\n",
       "Contract              object\n",
       "Paperless Billing     object\n",
       "Payment Method        object\n",
       "Monthly Charges      float64\n",
       "Total Charges         object\n",
       "Churn Label           object\n",
       "Churn Reason          object\n",
       "dtype: object"
      ]
     },
     "execution_count": 5,
     "metadata": {},
     "output_type": "execute_result"
    }
   ],
   "source": [
    "#Checking data types of all the column\n",
    "df.dtypes"
   ]
  },
  {
   "cell_type": "code",
   "execution_count": 6,
   "id": "9de17fbc",
   "metadata": {},
   "outputs": [
    {
     "data": {
      "text/html": [
       "<div>\n",
       "<style scoped>\n",
       "    .dataframe tbody tr th:only-of-type {\n",
       "        vertical-align: middle;\n",
       "    }\n",
       "\n",
       "    .dataframe tbody tr th {\n",
       "        vertical-align: top;\n",
       "    }\n",
       "\n",
       "    .dataframe thead th {\n",
       "        text-align: right;\n",
       "    }\n",
       "</style>\n",
       "<table border=\"1\" class=\"dataframe\">\n",
       "  <thead>\n",
       "    <tr style=\"text-align: right;\">\n",
       "      <th></th>\n",
       "      <th>Count</th>\n",
       "      <th>Zip Code</th>\n",
       "      <th>Latitude</th>\n",
       "      <th>Longitude</th>\n",
       "      <th>Tenure Months</th>\n",
       "      <th>Monthly Charges</th>\n",
       "    </tr>\n",
       "  </thead>\n",
       "  <tbody>\n",
       "    <tr>\n",
       "      <th>count</th>\n",
       "      <td>7043.0</td>\n",
       "      <td>7043.000000</td>\n",
       "      <td>7043.000000</td>\n",
       "      <td>7043.000000</td>\n",
       "      <td>7043.000000</td>\n",
       "      <td>7043.000000</td>\n",
       "    </tr>\n",
       "    <tr>\n",
       "      <th>mean</th>\n",
       "      <td>1.0</td>\n",
       "      <td>93521.964646</td>\n",
       "      <td>36.282441</td>\n",
       "      <td>-119.798880</td>\n",
       "      <td>32.371149</td>\n",
       "      <td>64.761692</td>\n",
       "    </tr>\n",
       "    <tr>\n",
       "      <th>std</th>\n",
       "      <td>0.0</td>\n",
       "      <td>1865.794555</td>\n",
       "      <td>2.455723</td>\n",
       "      <td>2.157889</td>\n",
       "      <td>24.559481</td>\n",
       "      <td>30.090047</td>\n",
       "    </tr>\n",
       "    <tr>\n",
       "      <th>min</th>\n",
       "      <td>1.0</td>\n",
       "      <td>90001.000000</td>\n",
       "      <td>32.555828</td>\n",
       "      <td>-124.301372</td>\n",
       "      <td>0.000000</td>\n",
       "      <td>18.250000</td>\n",
       "    </tr>\n",
       "    <tr>\n",
       "      <th>25%</th>\n",
       "      <td>1.0</td>\n",
       "      <td>92102.000000</td>\n",
       "      <td>34.030915</td>\n",
       "      <td>-121.815412</td>\n",
       "      <td>9.000000</td>\n",
       "      <td>35.500000</td>\n",
       "    </tr>\n",
       "    <tr>\n",
       "      <th>50%</th>\n",
       "      <td>1.0</td>\n",
       "      <td>93552.000000</td>\n",
       "      <td>36.391777</td>\n",
       "      <td>-119.730885</td>\n",
       "      <td>29.000000</td>\n",
       "      <td>70.350000</td>\n",
       "    </tr>\n",
       "    <tr>\n",
       "      <th>75%</th>\n",
       "      <td>1.0</td>\n",
       "      <td>95351.000000</td>\n",
       "      <td>38.224869</td>\n",
       "      <td>-118.043237</td>\n",
       "      <td>55.000000</td>\n",
       "      <td>89.850000</td>\n",
       "    </tr>\n",
       "    <tr>\n",
       "      <th>max</th>\n",
       "      <td>1.0</td>\n",
       "      <td>96161.000000</td>\n",
       "      <td>41.962127</td>\n",
       "      <td>-114.192901</td>\n",
       "      <td>72.000000</td>\n",
       "      <td>118.750000</td>\n",
       "    </tr>\n",
       "  </tbody>\n",
       "</table>\n",
       "</div>"
      ],
      "text/plain": [
       "        Count      Zip Code     Latitude    Longitude  Tenure Months  \\\n",
       "count  7043.0   7043.000000  7043.000000  7043.000000    7043.000000   \n",
       "mean      1.0  93521.964646    36.282441  -119.798880      32.371149   \n",
       "std       0.0   1865.794555     2.455723     2.157889      24.559481   \n",
       "min       1.0  90001.000000    32.555828  -124.301372       0.000000   \n",
       "25%       1.0  92102.000000    34.030915  -121.815412       9.000000   \n",
       "50%       1.0  93552.000000    36.391777  -119.730885      29.000000   \n",
       "75%       1.0  95351.000000    38.224869  -118.043237      55.000000   \n",
       "max       1.0  96161.000000    41.962127  -114.192901      72.000000   \n",
       "\n",
       "       Monthly Charges  \n",
       "count      7043.000000  \n",
       "mean         64.761692  \n",
       "std          30.090047  \n",
       "min          18.250000  \n",
       "25%          35.500000  \n",
       "50%          70.350000  \n",
       "75%          89.850000  \n",
       "max         118.750000  "
      ]
     },
     "execution_count": 6,
     "metadata": {},
     "output_type": "execute_result"
    }
   ],
   "source": [
    "df.describe()"
   ]
  },
  {
   "cell_type": "code",
   "execution_count": 7,
   "id": "9ca01c34",
   "metadata": {},
   "outputs": [
    {
     "name": "stdout",
     "output_type": "stream",
     "text": [
      "<class 'pandas.core.frame.DataFrame'>\n",
      "RangeIndex: 7043 entries, 0 to 7042\n",
      "Data columns (total 30 columns):\n",
      " #   Column             Non-Null Count  Dtype  \n",
      "---  ------             --------------  -----  \n",
      " 0   CustomerID         7043 non-null   object \n",
      " 1   Count              7043 non-null   int64  \n",
      " 2   Country            7043 non-null   object \n",
      " 3   State              7043 non-null   object \n",
      " 4   City               7043 non-null   object \n",
      " 5   Zip Code           7043 non-null   int64  \n",
      " 6   Lat Long           7043 non-null   object \n",
      " 7   Latitude           7043 non-null   float64\n",
      " 8   Longitude          7043 non-null   float64\n",
      " 9   Gender             7043 non-null   object \n",
      " 10  Senior Citizen     7043 non-null   object \n",
      " 11  Partner            7043 non-null   object \n",
      " 12  Dependents         7043 non-null   object \n",
      " 13  Tenure Months      7043 non-null   int64  \n",
      " 14  Phone Service      7043 non-null   object \n",
      " 15  Multiple Lines     7043 non-null   object \n",
      " 16  Internet Service   7043 non-null   object \n",
      " 17  Online Security    7043 non-null   object \n",
      " 18  Online Backup      7043 non-null   object \n",
      " 19  Device Protection  7043 non-null   object \n",
      " 20  Tech Support       7043 non-null   object \n",
      " 21  Streaming TV       7043 non-null   object \n",
      " 22  Streaming Movies   7043 non-null   object \n",
      " 23  Contract           7043 non-null   object \n",
      " 24  Paperless Billing  7043 non-null   object \n",
      " 25  Payment Method     7043 non-null   object \n",
      " 26  Monthly Charges    7043 non-null   float64\n",
      " 27  Total Charges      7043 non-null   object \n",
      " 28  Churn Label        7043 non-null   object \n",
      " 29  Churn Reason       1869 non-null   object \n",
      "dtypes: float64(3), int64(3), object(24)\n",
      "memory usage: 1.6+ MB\n"
     ]
    }
   ],
   "source": [
    "df.info()"
   ]
  },
  {
   "cell_type": "code",
   "execution_count": 8,
   "id": "461dc359",
   "metadata": {},
   "outputs": [
    {
     "data": {
      "text/plain": [
       "No     5174\n",
       "Yes    1869\n",
       "Name: Churn Label, dtype: int64"
      ]
     },
     "execution_count": 8,
     "metadata": {},
     "output_type": "execute_result"
    }
   ],
   "source": [
    "df['Churn Label'].value_counts()"
   ]
  },
  {
   "cell_type": "code",
   "execution_count": 9,
   "id": "e16aee79",
   "metadata": {
    "scrolled": true
   },
   "outputs": [
    {
     "data": {
      "text/plain": [
       "No     73.463013\n",
       "Yes    26.536987\n",
       "Name: Churn Label, dtype: float64"
      ]
     },
     "execution_count": 9,
     "metadata": {},
     "output_type": "execute_result"
    }
   ],
   "source": [
    "100*df['Churn Label'].value_counts()/len(df['Churn Label'])"
   ]
  },
  {
   "cell_type": "markdown",
   "id": "c894402f",
   "metadata": {},
   "source": [
    "##### Data is highly imbalanced, ratio = 73:27\n",
    "#### So we analyse the data with other features while taking the target values separately to get some insights."
   ]
  },
  {
   "cell_type": "code",
   "execution_count": 10,
   "id": "a9f930c6",
   "metadata": {},
   "outputs": [
    {
     "data": {
      "text/plain": [
       "CustomerID              0\n",
       "Count                   0\n",
       "Country                 0\n",
       "State                   0\n",
       "City                    0\n",
       "Zip Code                0\n",
       "Lat Long                0\n",
       "Latitude                0\n",
       "Longitude               0\n",
       "Gender                  0\n",
       "Senior Citizen          0\n",
       "Partner                 0\n",
       "Dependents              0\n",
       "Tenure Months           0\n",
       "Phone Service           0\n",
       "Multiple Lines          0\n",
       "Internet Service        0\n",
       "Online Security         0\n",
       "Online Backup           0\n",
       "Device Protection       0\n",
       "Tech Support            0\n",
       "Streaming TV            0\n",
       "Streaming Movies        0\n",
       "Contract                0\n",
       "Paperless Billing       0\n",
       "Payment Method          0\n",
       "Monthly Charges         0\n",
       "Total Charges           0\n",
       "Churn Label             0\n",
       "Churn Reason         5174\n",
       "dtype: int64"
      ]
     },
     "execution_count": 10,
     "metadata": {},
     "output_type": "execute_result"
    }
   ],
   "source": [
    "df.isnull().sum()"
   ]
  },
  {
   "cell_type": "markdown",
   "id": "8736f5fc",
   "metadata": {},
   "source": [
    "Here Churn Reason is subjective. So we can ignore this column."
   ]
  },
  {
   "cell_type": "code",
   "execution_count": 11,
   "id": "da676dc5",
   "metadata": {},
   "outputs": [],
   "source": [
    "# Dropping unnecessary columns\n",
    "df.drop(columns=['CustomerID','Count','Country','State','Zip Code','Lat Long','Latitude','Longitude','Churn Reason','City'],axis=1,inplace=True)"
   ]
  },
  {
   "cell_type": "code",
   "execution_count": 12,
   "id": "187f6c98",
   "metadata": {},
   "outputs": [
    {
     "data": {
      "text/html": [
       "<div>\n",
       "<style scoped>\n",
       "    .dataframe tbody tr th:only-of-type {\n",
       "        vertical-align: middle;\n",
       "    }\n",
       "\n",
       "    .dataframe tbody tr th {\n",
       "        vertical-align: top;\n",
       "    }\n",
       "\n",
       "    .dataframe thead th {\n",
       "        text-align: right;\n",
       "    }\n",
       "</style>\n",
       "<table border=\"1\" class=\"dataframe\">\n",
       "  <thead>\n",
       "    <tr style=\"text-align: right;\">\n",
       "      <th></th>\n",
       "      <th>Gender</th>\n",
       "      <th>Senior Citizen</th>\n",
       "      <th>Partner</th>\n",
       "      <th>Dependents</th>\n",
       "      <th>Tenure Months</th>\n",
       "      <th>Phone Service</th>\n",
       "      <th>Multiple Lines</th>\n",
       "      <th>Internet Service</th>\n",
       "      <th>Online Security</th>\n",
       "      <th>Online Backup</th>\n",
       "      <th>Device Protection</th>\n",
       "      <th>Tech Support</th>\n",
       "      <th>Streaming TV</th>\n",
       "      <th>Streaming Movies</th>\n",
       "      <th>Contract</th>\n",
       "      <th>Paperless Billing</th>\n",
       "      <th>Payment Method</th>\n",
       "      <th>Monthly Charges</th>\n",
       "      <th>Total Charges</th>\n",
       "      <th>Churn Label</th>\n",
       "    </tr>\n",
       "  </thead>\n",
       "  <tbody>\n",
       "    <tr>\n",
       "      <th>0</th>\n",
       "      <td>Male</td>\n",
       "      <td>No</td>\n",
       "      <td>No</td>\n",
       "      <td>No</td>\n",
       "      <td>2</td>\n",
       "      <td>Yes</td>\n",
       "      <td>No</td>\n",
       "      <td>DSL</td>\n",
       "      <td>Yes</td>\n",
       "      <td>Yes</td>\n",
       "      <td>No</td>\n",
       "      <td>No</td>\n",
       "      <td>No</td>\n",
       "      <td>No</td>\n",
       "      <td>Month-to-month</td>\n",
       "      <td>Yes</td>\n",
       "      <td>Mailed check</td>\n",
       "      <td>53.85</td>\n",
       "      <td>108.15</td>\n",
       "      <td>Yes</td>\n",
       "    </tr>\n",
       "    <tr>\n",
       "      <th>1</th>\n",
       "      <td>Female</td>\n",
       "      <td>No</td>\n",
       "      <td>No</td>\n",
       "      <td>Yes</td>\n",
       "      <td>2</td>\n",
       "      <td>Yes</td>\n",
       "      <td>No</td>\n",
       "      <td>Fiber optic</td>\n",
       "      <td>No</td>\n",
       "      <td>No</td>\n",
       "      <td>No</td>\n",
       "      <td>No</td>\n",
       "      <td>No</td>\n",
       "      <td>No</td>\n",
       "      <td>Month-to-month</td>\n",
       "      <td>Yes</td>\n",
       "      <td>Electronic check</td>\n",
       "      <td>70.70</td>\n",
       "      <td>151.65</td>\n",
       "      <td>Yes</td>\n",
       "    </tr>\n",
       "    <tr>\n",
       "      <th>2</th>\n",
       "      <td>Female</td>\n",
       "      <td>No</td>\n",
       "      <td>No</td>\n",
       "      <td>Yes</td>\n",
       "      <td>8</td>\n",
       "      <td>Yes</td>\n",
       "      <td>Yes</td>\n",
       "      <td>Fiber optic</td>\n",
       "      <td>No</td>\n",
       "      <td>No</td>\n",
       "      <td>Yes</td>\n",
       "      <td>No</td>\n",
       "      <td>Yes</td>\n",
       "      <td>Yes</td>\n",
       "      <td>Month-to-month</td>\n",
       "      <td>Yes</td>\n",
       "      <td>Electronic check</td>\n",
       "      <td>99.65</td>\n",
       "      <td>820.5</td>\n",
       "      <td>Yes</td>\n",
       "    </tr>\n",
       "    <tr>\n",
       "      <th>3</th>\n",
       "      <td>Female</td>\n",
       "      <td>No</td>\n",
       "      <td>Yes</td>\n",
       "      <td>Yes</td>\n",
       "      <td>28</td>\n",
       "      <td>Yes</td>\n",
       "      <td>Yes</td>\n",
       "      <td>Fiber optic</td>\n",
       "      <td>No</td>\n",
       "      <td>No</td>\n",
       "      <td>Yes</td>\n",
       "      <td>Yes</td>\n",
       "      <td>Yes</td>\n",
       "      <td>Yes</td>\n",
       "      <td>Month-to-month</td>\n",
       "      <td>Yes</td>\n",
       "      <td>Electronic check</td>\n",
       "      <td>104.80</td>\n",
       "      <td>3046.05</td>\n",
       "      <td>Yes</td>\n",
       "    </tr>\n",
       "    <tr>\n",
       "      <th>4</th>\n",
       "      <td>Male</td>\n",
       "      <td>No</td>\n",
       "      <td>No</td>\n",
       "      <td>Yes</td>\n",
       "      <td>49</td>\n",
       "      <td>Yes</td>\n",
       "      <td>Yes</td>\n",
       "      <td>Fiber optic</td>\n",
       "      <td>No</td>\n",
       "      <td>Yes</td>\n",
       "      <td>Yes</td>\n",
       "      <td>No</td>\n",
       "      <td>Yes</td>\n",
       "      <td>Yes</td>\n",
       "      <td>Month-to-month</td>\n",
       "      <td>Yes</td>\n",
       "      <td>Bank transfer (automatic)</td>\n",
       "      <td>103.70</td>\n",
       "      <td>5036.3</td>\n",
       "      <td>Yes</td>\n",
       "    </tr>\n",
       "  </tbody>\n",
       "</table>\n",
       "</div>"
      ],
      "text/plain": [
       "   Gender Senior Citizen Partner Dependents  Tenure Months Phone Service  \\\n",
       "0    Male             No      No         No              2           Yes   \n",
       "1  Female             No      No        Yes              2           Yes   \n",
       "2  Female             No      No        Yes              8           Yes   \n",
       "3  Female             No     Yes        Yes             28           Yes   \n",
       "4    Male             No      No        Yes             49           Yes   \n",
       "\n",
       "  Multiple Lines Internet Service Online Security Online Backup  \\\n",
       "0             No              DSL             Yes           Yes   \n",
       "1             No      Fiber optic              No            No   \n",
       "2            Yes      Fiber optic              No            No   \n",
       "3            Yes      Fiber optic              No            No   \n",
       "4            Yes      Fiber optic              No           Yes   \n",
       "\n",
       "  Device Protection Tech Support Streaming TV Streaming Movies  \\\n",
       "0                No           No           No               No   \n",
       "1                No           No           No               No   \n",
       "2               Yes           No          Yes              Yes   \n",
       "3               Yes          Yes          Yes              Yes   \n",
       "4               Yes           No          Yes              Yes   \n",
       "\n",
       "         Contract Paperless Billing             Payment Method  \\\n",
       "0  Month-to-month               Yes               Mailed check   \n",
       "1  Month-to-month               Yes           Electronic check   \n",
       "2  Month-to-month               Yes           Electronic check   \n",
       "3  Month-to-month               Yes           Electronic check   \n",
       "4  Month-to-month               Yes  Bank transfer (automatic)   \n",
       "\n",
       "   Monthly Charges Total Charges Churn Label  \n",
       "0            53.85        108.15         Yes  \n",
       "1            70.70        151.65         Yes  \n",
       "2            99.65         820.5         Yes  \n",
       "3           104.80       3046.05         Yes  \n",
       "4           103.70        5036.3         Yes  "
      ]
     },
     "execution_count": 12,
     "metadata": {},
     "output_type": "execute_result"
    }
   ],
   "source": [
    "df.head()"
   ]
  },
  {
   "cell_type": "code",
   "execution_count": 14,
   "id": "aaa78eb0",
   "metadata": {},
   "outputs": [
    {
     "data": {
      "text/plain": [
       "Index(['Gender', 'Senior Citizen', 'Partner', 'Dependents', 'Tenure Months',\n",
       "       'Phone Service', 'Multiple Lines', 'Internet Service',\n",
       "       'Online Security', 'Online Backup', 'Device Protection', 'Tech Support',\n",
       "       'Streaming TV', 'Streaming Movies', 'Contract', 'Paperless Billing',\n",
       "       'Payment Method', 'Monthly Charges', 'Total Charges', 'Churn Label'],\n",
       "      dtype='object')"
      ]
     },
     "execution_count": 14,
     "metadata": {},
     "output_type": "execute_result"
    }
   ],
   "source": [
    "df.columns"
   ]
  },
  {
   "cell_type": "markdown",
   "id": "eca10a49",
   "metadata": {},
   "source": [
    "# Exploratory Data Analysis"
   ]
  },
  {
   "cell_type": "markdown",
   "id": "e1bfd7ad",
   "metadata": {},
   "source": [
    "### 1. Churn by Gender"
   ]
  },
  {
   "cell_type": "code",
   "execution_count": 15,
   "id": "c46aebdf",
   "metadata": {},
   "outputs": [
    {
     "data": {
      "text/plain": [
       "Text(0.5, 1.0, 'Churn by gender')"
      ]
     },
     "execution_count": 15,
     "metadata": {},
     "output_type": "execute_result"
    },
    {
     "data": {
      "image/png": "[encoded data removed]",
      "text/plain": [
       "<Figure size 792x360 with 1 Axes>"
      ]
     },
     "metadata": {
      "needs_background": "light"
     },
     "output_type": "display_data"
    }
   ],
   "source": [
    "plt.figure(figsize=(11,5))\n",
    "sns.histplot(data=df, x=\"Gender\", hue=\"Churn Label\", multiple=\"dodge\", palette ='flare',shrink=.7)\n",
    "plt.title('Churn by gender')"
   ]
  },
  {
   "cell_type": "markdown",
   "id": "80293e1b",
   "metadata": {},
   "source": [
    "Looking at the above figure,  we can see that churn is equal in males and females."
   ]
  },
  {
   "cell_type": "markdown",
   "id": "49ecafed",
   "metadata": {},
   "source": [
    "### 2. Churn by Senior Citizen"
   ]
  },
  {
   "cell_type": "code",
   "execution_count": 16,
   "id": "a0cd7acd",
   "metadata": {},
   "outputs": [
    {
     "data": {
      "text/plain": [
       "Text(0.5, 1.0, 'Churn by Senior Citizen')"
      ]
     },
     "execution_count": 16,
     "metadata": {},
     "output_type": "execute_result"
    },
    {
     "data": {
      "image/png": "[encoded data removed]",
      "text/plain": [
       "<Figure size 792x360 with 1 Axes>"
      ]
     },
     "metadata": {
      "needs_background": "light"
     },
     "output_type": "display_data"
    }
   ],
   "source": [
    "plt.figure(figsize=(11,5))\n",
    "sns.histplot(data=df, x=\"Senior Citizen\", hue=\"Churn Label\", multiple=\"dodge\", palette ='BuGn_r',shrink=.7)\n",
    "plt.title('Churn by Senior Citizen')"
   ]
  },
  {
   "cell_type": "markdown",
   "id": "81902ea1",
   "metadata": {},
   "source": [
    "Senior Citizen is a binary feature that indicates whether the customer is an elderly person or not (Yes or No). Here we can see that Churn in Senior citizens is lesser than that in case of non-senior citizens."
   ]
  },
  {
   "cell_type": "markdown",
   "id": "055fe067",
   "metadata": {},
   "source": [
    "### 3. Churn by Partner"
   ]
  },
  {
   "cell_type": "code",
   "execution_count": 17,
   "id": "1744c2e6",
   "metadata": {},
   "outputs": [
    {
     "data": {
      "text/plain": [
       "Text(0.5, 1.0, 'Churn by Partner')"
      ]
     },
     "execution_count": 17,
     "metadata": {},
     "output_type": "execute_result"
    },
    {
     "data": {
      "image/png": "[encoded data removed]",
      "text/plain": [
       "<Figure size 792x360 with 1 Axes>"
      ]
     },
     "metadata": {
      "needs_background": "light"
     },
     "output_type": "display_data"
    }
   ],
   "source": [
    "plt.figure(figsize=(11,5))\n",
    "sns.histplot(data=df, x=\"Partner\",hue=\"Churn Label\", multiple=\"dodge\", palette ='YlOrBr',shrink=.7)\n",
    "plt.title('Churn by Partner')"
   ]
  },
  {
   "cell_type": "markdown",
   "id": "15e0299e",
   "metadata": {},
   "source": [
    "Partner is a binary feature that indicates whether the customer has a partner or not (Yes or No). So we can see that Churn in customers with Partner is lesser than the ones without any partner."
   ]
  },
  {
   "cell_type": "markdown",
   "id": "8e0a2fec",
   "metadata": {},
   "source": [
    "### 4. Churn by Dependent Feature"
   ]
  },
  {
   "cell_type": "code",
   "execution_count": 18,
   "id": "0fae0bd1",
   "metadata": {},
   "outputs": [
    {
     "data": {
      "text/plain": [
       "Text(0.5, 1.0, 'Dependents Feature')"
      ]
     },
     "execution_count": 18,
     "metadata": {},
     "output_type": "execute_result"
    },
    {
     "data": {
      "image/png": "[encoded data removed]",
      "text/plain": [
       "<Figure size 648x360 with 1 Axes>"
      ]
     },
     "metadata": {
      "needs_background": "light"
     },
     "output_type": "display_data"
    }
   ],
   "source": [
    "plt.figure(figsize=(9,5))\n",
    "sns.histplot(data=df,x=\"Dependents\",hue='Churn Label', palette='rocket')\n",
    "plt.title('Dependents Feature')"
   ]
  },
  {
   "cell_type": "markdown",
   "id": "7ce839f9",
   "metadata": {},
   "source": [
    "The Dependents feature is a binary variable that tells whether the customer has a dependent or not. Here, we can see that Customers having dependents have significantly less churn than customers without dependents."
   ]
  },
  {
   "cell_type": "markdown",
   "id": "01d34aa2",
   "metadata": {},
   "source": [
    "### 5. Churn by Tenure Group"
   ]
  },
  {
   "cell_type": "code",
   "execution_count": 78,
   "id": "0d078285",
   "metadata": {},
   "outputs": [
    {
     "data": {
      "text/plain": [
       "Text(0.5, 1.0, 'Tenure Months')"
      ]
     },
     "execution_count": 78,
     "metadata": {},
     "output_type": "execute_result"
    },
    {
     "data": {
      "image/png": "[encoded data removed]",
      "text/plain": [
       "<Figure size 864x576 with 1 Axes>"
      ]
     },
     "metadata": {
      "needs_background": "light"
     },
     "output_type": "display_data"
    }
   ],
   "source": [
    "plt.figure(figsize=(12,8))\n",
    "sns.histplot(data=df,x=\"Tenure Months\",hue='Churn Label', palette='BuPu')\n",
    "plt.title('Tenure Months')"
   ]
  },
  {
   "cell_type": "markdown",
   "id": "88bd1e61",
   "metadata": {},
   "source": [
    "Here, we can see more churn in customers with less tenure (in months)."
   ]
  },
  {
   "cell_type": "markdown",
   "id": "221013de",
   "metadata": {},
   "source": [
    "### 6. Churn by Contract Service"
   ]
  },
  {
   "cell_type": "code",
   "execution_count": 20,
   "id": "9e4ae530",
   "metadata": {},
   "outputs": [
    {
     "data": {
      "text/plain": [
       "Text(0.5, 1.0, 'Contract Service')"
      ]
     },
     "execution_count": 20,
     "metadata": {},
     "output_type": "execute_result"
    },
    {
     "data": {
      "image/png": "[encoded data removed]",
      "text/plain": [
       "<Figure size 648x360 with 1 Axes>"
      ]
     },
     "metadata": {
      "needs_background": "light"
     },
     "output_type": "display_data"
    }
   ],
   "source": [
    "plt.figure(figsize=(9,5))\n",
    "sns.histplot(data=df,x=\"Contract\",hue='Churn Label', palette='copper_r')\n",
    "plt.title('Contract Service')"
   ]
  },
  {
   "cell_type": "markdown",
   "id": "9f12e8cd",
   "metadata": {},
   "source": [
    "The contract variable tells how long the individual has been a customer. There are three types of contract ; Month-to-month , Two years and one year. In above figure, we can see that those who have month-to-month contract have highest churn followed by One and Two year Contracts, respectively."
   ]
  },
  {
   "cell_type": "markdown",
   "id": "04cb5cd0",
   "metadata": {},
   "source": [
    "### 7. Churn by Payment Method"
   ]
  },
  {
   "cell_type": "code",
   "execution_count": 21,
   "id": "a482bf72",
   "metadata": {},
   "outputs": [
    {
     "data": {
      "text/plain": [
       "Text(0.5, 1.0, 'Payment Method')"
      ]
     },
     "execution_count": 21,
     "metadata": {},
     "output_type": "execute_result"
    },
    {
     "data": {
      "image/png": "[encoded data removed]",
      "text/plain": [
       "<Figure size 648x360 with 1 Axes>"
      ]
     },
     "metadata": {
      "needs_background": "light"
     },
     "output_type": "display_data"
    }
   ],
   "source": [
    "plt.figure(figsize=(9,5))\n",
    "sns.histplot(data=df,x=\"Payment Method\",hue='Churn Label', palette='bwr')\n",
    "plt.title('Payment Method')"
   ]
  },
  {
   "cell_type": "markdown",
   "id": "7c33629c",
   "metadata": {},
   "source": [
    "In the above figure, we can see churn is most in Electronic check methods."
   ]
  },
  {
   "cell_type": "markdown",
   "id": "95f61075",
   "metadata": {},
   "source": [
    "### 8. Churn by Miscellaneous Variables"
   ]
  },
  {
   "cell_type": "code",
   "execution_count": 80,
   "id": "a38fc1c6",
   "metadata": {},
   "outputs": [
    {
     "data": {
      "text/plain": [
       "<AxesSubplot:xlabel='Online Security', ylabel='Count'>"
      ]
     },
     "execution_count": 80,
     "metadata": {},
     "output_type": "execute_result"
    },
    {
     "data": {
      "image/png": "[encoded data removed]",
      "text/plain": [
       "<Figure size 1080x864 with 4 Axes>"
      ]
     },
     "metadata": {
      "needs_background": "light"
     },
     "output_type": "display_data"
    }
   ],
   "source": [
    "fig, ax = plt.subplots(2, 2,figsize=(15,12))\n",
    "sns.histplot(data=df,x=\"Phone Service\",hue='Churn Label', palette='hsv',ax=ax[0,0])\n",
    "sns.histplot(data=df,x=\"Multiple Lines\",hue='Churn Label', palette='magma',ax=ax[0,1])\n",
    "sns.histplot(data=df,x=\"Internet Service\",hue='Churn Label', palette='prism',ax=ax[1,0])\n",
    "sns.histplot(data=df,x='Online Security',hue='Churn Label', palette='mako',ax=ax[1,1])"
   ]
  },
  {
   "cell_type": "markdown",
   "id": "c6ee81b1",
   "metadata": {},
   "source": [
    "* Customer who has phone service are more likely to churn.\n",
    "* Customer who has multiple lines is slightly more likely to churn.\n",
    "* If customer's Internet service provider is Fiber optic, then that customer is more likely to churn.\n",
    "* Customer who does not have online security is more likely to churn."
   ]
  },
  {
   "cell_type": "code",
   "execution_count": 95,
   "id": "6f09d809",
   "metadata": {},
   "outputs": [
    {
     "data": {
      "text/plain": [
       "<AxesSubplot:xlabel='Streaming TV', ylabel='Count'>"
      ]
     },
     "execution_count": 95,
     "metadata": {},
     "output_type": "execute_result"
    },
    {
     "data": {
      "image/png": "[encoded data removed]",
      "text/plain": [
       "<Figure size 1080x864 with 4 Axes>"
      ]
     },
     "metadata": {
      "needs_background": "light"
     },
     "output_type": "display_data"
    }
   ],
   "source": [
    "fig, ax = plt.subplots(2,2,figsize=(15,12))\n",
    "sns.histplot(data=df,x=\"Online Backup\",hue='Churn Label', palette='hsv',ax=ax[0,0]) \n",
    "sns.histplot(data=df,x=\"Device Protection\",hue='Churn Label', palette='magma',ax=ax[0,1])\n",
    "sns.histplot(data=df,x=\"Streaming Movies\",hue='Churn Label', palette='prism',ax=ax[1,0])\n",
    "sns.histplot(data=df,x='Streaming TV',hue='Churn Label', palette='mako',ax=ax[1,1])"
   ]
  },
  {
   "cell_type": "markdown",
   "id": "e8256c84",
   "metadata": {},
   "source": [
    "* Customer who does not have online backup is more likely to churn.\n",
    "* Customer who does not have device protection is more likely to churn.\n",
    "* Streaming Movies and Streaming TV have same effect of Churn rate.\n"
   ]
  },
  {
   "cell_type": "code",
   "execution_count": 96,
   "id": "728770bc",
   "metadata": {},
   "outputs": [
    {
     "data": {
      "text/plain": [
       "<AxesSubplot:xlabel='Tech Support', ylabel='Count'>"
      ]
     },
     "execution_count": 96,
     "metadata": {},
     "output_type": "execute_result"
    },
    {
     "data": {
      "image/png": "[encoded data removed]",
      "text/plain": [
       "<Figure size 1440x432 with 2 Axes>"
      ]
     },
     "metadata": {
      "needs_background": "light"
     },
     "output_type": "display_data"
    }
   ],
   "source": [
    "fig, (ax1,ax2) = plt.subplots(1,2,figsize=(20,6))\n",
    "sns.histplot(data=df,x=\"Paperless Billing\",hue='Churn Label', palette='hsv',ax=ax1) \n",
    "sns.histplot(data=df,x=\"Tech Support\",hue='Churn Label', palette='prism',ax=ax2)"
   ]
  },
  {
   "cell_type": "markdown",
   "id": "4362748b",
   "metadata": {},
   "source": [
    "* Customer who does not have tech support is more likely to churn.\n",
    "* Customer who has paperless billing is more likely to churn."
   ]
  },
  {
   "cell_type": "markdown",
   "id": "25df63f4",
   "metadata": {},
   "source": [
    "# Model Comparison"
   ]
  },
  {
   "cell_type": "markdown",
   "id": "7ff88c1b",
   "metadata": {},
   "source": [
    "#### Converting all categorical variable into numerical variable"
   ]
  },
  {
   "cell_type": "code",
   "execution_count": 22,
   "id": "4c3719a5",
   "metadata": {},
   "outputs": [],
   "source": [
    "df['Churn Label'] = df['Churn Label'].map({'Yes':1 ,'No':0})"
   ]
  },
  {
   "cell_type": "code",
   "execution_count": 23,
   "id": "c1830a5f",
   "metadata": {},
   "outputs": [],
   "source": [
    "X = df.drop(columns=[\"Churn Label\"]).copy() \n",
    "y = df[\"Churn Label\"].copy()"
   ]
  },
  {
   "cell_type": "code",
   "execution_count": 24,
   "id": "de21008d",
   "metadata": {},
   "outputs": [],
   "source": [
    "cat_col = [col for col in X.columns if X[col].dtype == 'object']\n",
    "num_col = [col for col in X.columns if X[col].dtype == 'int']"
   ]
  },
  {
   "cell_type": "code",
   "execution_count": 26,
   "id": "2f2ff271",
   "metadata": {},
   "outputs": [],
   "source": [
    "from sklearn.preprocessing import LabelEncoder\n",
    "label_encoder = LabelEncoder()\n",
    "for col in cat_col:\n",
    "        X[col] = label_encoder.fit_transform(X[col].astype(str))"
   ]
  },
  {
   "cell_type": "code",
   "execution_count": 27,
   "id": "490f951a",
   "metadata": {},
   "outputs": [
    {
     "data": {
      "text/html": [
       "<div>\n",
       "<style scoped>\n",
       "    .dataframe tbody tr th:only-of-type {\n",
       "        vertical-align: middle;\n",
       "    }\n",
       "\n",
       "    .dataframe tbody tr th {\n",
       "        vertical-align: top;\n",
       "    }\n",
       "\n",
       "    .dataframe thead th {\n",
       "        text-align: right;\n",
       "    }\n",
       "</style>\n",
       "<table border=\"1\" class=\"dataframe\">\n",
       "  <thead>\n",
       "    <tr style=\"text-align: right;\">\n",
       "      <th></th>\n",
       "      <th>Gender</th>\n",
       "      <th>Senior Citizen</th>\n",
       "      <th>Partner</th>\n",
       "      <th>Dependents</th>\n",
       "      <th>Tenure Months</th>\n",
       "      <th>Phone Service</th>\n",
       "      <th>Multiple Lines</th>\n",
       "      <th>Internet Service</th>\n",
       "      <th>Online Security</th>\n",
       "      <th>Online Backup</th>\n",
       "      <th>Device Protection</th>\n",
       "      <th>Tech Support</th>\n",
       "      <th>Streaming TV</th>\n",
       "      <th>Streaming Movies</th>\n",
       "      <th>Contract</th>\n",
       "      <th>Paperless Billing</th>\n",
       "      <th>Payment Method</th>\n",
       "      <th>Monthly Charges</th>\n",
       "      <th>Total Charges</th>\n",
       "    </tr>\n",
       "  </thead>\n",
       "  <tbody>\n",
       "    <tr>\n",
       "      <th>0</th>\n",
       "      <td>1</td>\n",
       "      <td>0</td>\n",
       "      <td>0</td>\n",
       "      <td>0</td>\n",
       "      <td>2</td>\n",
       "      <td>1</td>\n",
       "      <td>0</td>\n",
       "      <td>0</td>\n",
       "      <td>2</td>\n",
       "      <td>2</td>\n",
       "      <td>0</td>\n",
       "      <td>0</td>\n",
       "      <td>0</td>\n",
       "      <td>0</td>\n",
       "      <td>0</td>\n",
       "      <td>1</td>\n",
       "      <td>3</td>\n",
       "      <td>53.85</td>\n",
       "      <td>157</td>\n",
       "    </tr>\n",
       "    <tr>\n",
       "      <th>1</th>\n",
       "      <td>0</td>\n",
       "      <td>0</td>\n",
       "      <td>0</td>\n",
       "      <td>1</td>\n",
       "      <td>2</td>\n",
       "      <td>1</td>\n",
       "      <td>0</td>\n",
       "      <td>1</td>\n",
       "      <td>0</td>\n",
       "      <td>0</td>\n",
       "      <td>0</td>\n",
       "      <td>0</td>\n",
       "      <td>0</td>\n",
       "      <td>0</td>\n",
       "      <td>0</td>\n",
       "      <td>1</td>\n",
       "      <td>2</td>\n",
       "      <td>70.70</td>\n",
       "      <td>925</td>\n",
       "    </tr>\n",
       "    <tr>\n",
       "      <th>2</th>\n",
       "      <td>0</td>\n",
       "      <td>0</td>\n",
       "      <td>0</td>\n",
       "      <td>1</td>\n",
       "      <td>8</td>\n",
       "      <td>1</td>\n",
       "      <td>2</td>\n",
       "      <td>1</td>\n",
       "      <td>0</td>\n",
       "      <td>0</td>\n",
       "      <td>2</td>\n",
       "      <td>0</td>\n",
       "      <td>2</td>\n",
       "      <td>2</td>\n",
       "      <td>0</td>\n",
       "      <td>1</td>\n",
       "      <td>2</td>\n",
       "      <td>99.65</td>\n",
       "      <td>6104</td>\n",
       "    </tr>\n",
       "    <tr>\n",
       "      <th>3</th>\n",
       "      <td>0</td>\n",
       "      <td>0</td>\n",
       "      <td>1</td>\n",
       "      <td>1</td>\n",
       "      <td>28</td>\n",
       "      <td>1</td>\n",
       "      <td>2</td>\n",
       "      <td>1</td>\n",
       "      <td>0</td>\n",
       "      <td>0</td>\n",
       "      <td>2</td>\n",
       "      <td>2</td>\n",
       "      <td>2</td>\n",
       "      <td>2</td>\n",
       "      <td>0</td>\n",
       "      <td>1</td>\n",
       "      <td>2</td>\n",
       "      <td>104.80</td>\n",
       "      <td>2646</td>\n",
       "    </tr>\n",
       "    <tr>\n",
       "      <th>4</th>\n",
       "      <td>1</td>\n",
       "      <td>0</td>\n",
       "      <td>0</td>\n",
       "      <td>1</td>\n",
       "      <td>49</td>\n",
       "      <td>1</td>\n",
       "      <td>2</td>\n",
       "      <td>1</td>\n",
       "      <td>0</td>\n",
       "      <td>2</td>\n",
       "      <td>2</td>\n",
       "      <td>0</td>\n",
       "      <td>2</td>\n",
       "      <td>2</td>\n",
       "      <td>0</td>\n",
       "      <td>1</td>\n",
       "      <td>0</td>\n",
       "      <td>103.70</td>\n",
       "      <td>4265</td>\n",
       "    </tr>\n",
       "  </tbody>\n",
       "</table>\n",
       "</div>"
      ],
      "text/plain": [
       "   Gender  Senior Citizen  Partner  Dependents  Tenure Months  Phone Service  \\\n",
       "0       1               0        0           0              2              1   \n",
       "1       0               0        0           1              2              1   \n",
       "2       0               0        0           1              8              1   \n",
       "3       0               0        1           1             28              1   \n",
       "4       1               0        0           1             49              1   \n",
       "\n",
       "   Multiple Lines  Internet Service  Online Security  Online Backup  \\\n",
       "0               0                 0                2              2   \n",
       "1               0                 1                0              0   \n",
       "2               2                 1                0              0   \n",
       "3               2                 1                0              0   \n",
       "4               2                 1                0              2   \n",
       "\n",
       "   Device Protection  Tech Support  Streaming TV  Streaming Movies  Contract  \\\n",
       "0                  0             0             0                 0         0   \n",
       "1                  0             0             0                 0         0   \n",
       "2                  2             0             2                 2         0   \n",
       "3                  2             2             2                 2         0   \n",
       "4                  2             0             2                 2         0   \n",
       "\n",
       "   Paperless Billing  Payment Method  Monthly Charges  Total Charges  \n",
       "0                  1               3            53.85            157  \n",
       "1                  1               2            70.70            925  \n",
       "2                  1               2            99.65           6104  \n",
       "3                  1               2           104.80           2646  \n",
       "4                  1               0           103.70           4265  "
      ]
     },
     "execution_count": 27,
     "metadata": {},
     "output_type": "execute_result"
    }
   ],
   "source": [
    "X.head()"
   ]
  },
  {
   "cell_type": "code",
   "execution_count": 28,
   "id": "59c5806f",
   "metadata": {},
   "outputs": [
    {
     "data": {
      "text/plain": [
       "0    1\n",
       "1    1\n",
       "2    1\n",
       "3    1\n",
       "4    1\n",
       "Name: Churn Label, dtype: int64"
      ]
     },
     "execution_count": 28,
     "metadata": {},
     "output_type": "execute_result"
    }
   ],
   "source": [
    "y.head()"
   ]
  },
  {
   "cell_type": "code",
   "execution_count": 29,
   "id": "3527fae0",
   "metadata": {},
   "outputs": [],
   "source": [
    "from sklearn import metrics\n",
    "from sklearn.model_selection import train_test_split\n",
    "from sklearn.metrics import recall_score\n",
    "from sklearn.metrics import classification_report\n",
    "from sklearn.metrics import confusion_matrix\n",
    "from sklearn.tree import DecisionTreeClassifier\n",
    "from sklearn.model_selection import train_test_split"
   ]
  },
  {
   "cell_type": "code",
   "execution_count": 30,
   "id": "b9cffd01",
   "metadata": {},
   "outputs": [],
   "source": [
    "# Train Test Split\n",
    "\n",
    "X_train,X_test,y_train,y_test = train_test_split(X,y,test_size=0.2)"
   ]
  },
  {
   "cell_type": "markdown",
   "id": "a096680e",
   "metadata": {},
   "source": [
    "## 1. Decision Tree Classifier"
   ]
  },
  {
   "cell_type": "code",
   "execution_count": 31,
   "id": "806b866f",
   "metadata": {},
   "outputs": [],
   "source": [
    "model_dt=DecisionTreeClassifier(criterion = \"gini\",random_state = 100,max_depth=6, min_samples_leaf=8)"
   ]
  },
  {
   "cell_type": "code",
   "execution_count": 32,
   "id": "9a599740",
   "metadata": {},
   "outputs": [
    {
     "data": {
      "text/html": [
       "<style>#sk-container-id-1 {color: black;background-color: white;}#sk-container-id-1 pre{padding: 0;}#sk-container-id-1 div.sk-toggleable {background-color: white;}#sk-container-id-1 label.sk-toggleable__label {cursor: pointer;display: block;width: 100%;margin-bottom: 0;padding: 0.3em;box-sizing: border-box;text-align: center;}#sk-container-id-1 label.sk-toggleable__label-arrow:before {content: \"▸\";float: left;margin-right: 0.25em;color: #696969;}#sk-container-id-1 label.sk-toggleable__label-arrow:hover:before {color: black;}#sk-container-id-1 div.sk-estimator:hover label.sk-toggleable__label-arrow:before {color: black;}#sk-container-id-1 div.sk-toggleable__content {max-height: 0;max-width: 0;overflow: hidden;text-align: left;background-color: #f0f8ff;}#sk-container-id-1 div.sk-toggleable__content pre {margin: 0.2em;color: black;border-radius: 0.25em;background-color: #f0f8ff;}#sk-container-id-1 input.sk-toggleable__control:checked~div.sk-toggleable__content {max-height: 200px;max-width: 100%;overflow: auto;}#sk-container-id-1 input.sk-toggleable__control:checked~label.sk-toggleable__label-arrow:before {content: \"▾\";}#sk-container-id-1 div.sk-estimator input.sk-toggleable__control:checked~label.sk-toggleable__label {background-color: #d4ebff;}#sk-container-id-1 div.sk-label input.sk-toggleable__control:checked~label.sk-toggleable__label {background-color: #d4ebff;}#sk-container-id-1 input.sk-hidden--visually {border: 0;clip: rect(1px 1px 1px 1px);clip: rect(1px, 1px, 1px, 1px);height: 1px;margin: -1px;overflow: hidden;padding: 0;position: absolute;width: 1px;}#sk-container-id-1 div.sk-estimator {font-family: monospace;background-color: #f0f8ff;border: 1px dotted black;border-radius: 0.25em;box-sizing: border-box;margin-bottom: 0.5em;}#sk-container-id-1 div.sk-estimator:hover {background-color: #d4ebff;}#sk-container-id-1 div.sk-parallel-item::after {content: \"\";width: 100%;border-bottom: 1px solid gray;flex-grow: 1;}#sk-container-id-1 div.sk-label:hover label.sk-toggleable__label {background-color: #d4ebff;}#sk-container-id-1 div.sk-serial::before {content: \"\";position: absolute;border-left: 1px solid gray;box-sizing: border-box;top: 0;bottom: 0;left: 50%;z-index: 0;}#sk-container-id-1 div.sk-serial {display: flex;flex-direction: column;align-items: center;background-color: white;padding-right: 0.2em;padding-left: 0.2em;position: relative;}#sk-container-id-1 div.sk-item {position: relative;z-index: 1;}#sk-container-id-1 div.sk-parallel {display: flex;align-items: stretch;justify-content: center;background-color: white;position: relative;}#sk-container-id-1 div.sk-item::before, #sk-container-id-1 div.sk-parallel-item::before {content: \"\";position: absolute;border-left: 1px solid gray;box-sizing: border-box;top: 0;bottom: 0;left: 50%;z-index: -1;}#sk-container-id-1 div.sk-parallel-item {display: flex;flex-direction: column;z-index: 1;position: relative;background-color: white;}#sk-container-id-1 div.sk-parallel-item:first-child::after {align-self: flex-end;width: 50%;}#sk-container-id-1 div.sk-parallel-item:last-child::after {align-self: flex-start;width: 50%;}#sk-container-id-1 div.sk-parallel-item:only-child::after {width: 0;}#sk-container-id-1 div.sk-dashed-wrapped {border: 1px dashed gray;margin: 0 0.4em 0.5em 0.4em;box-sizing: border-box;padding-bottom: 0.4em;background-color: white;}#sk-container-id-1 div.sk-label label {font-family: monospace;font-weight: bold;display: inline-block;line-height: 1.2em;}#sk-container-id-1 div.sk-label-container {text-align: center;}#sk-container-id-1 div.sk-container {/* jupyter's `normalize.less` sets `[hidden] { display: none; }` but bootstrap.min.css set `[hidden] { display: none !important; }` so we also need the `!important` here to be able to override the default hidden behavior on the sphinx rendered scikit-learn.org. See: https://github.com/scikit-learn/scikit-learn/issues/21755 */display: inline-block !important;position: relative;}#sk-container-id-1 div.sk-text-repr-fallback {display: none;}</style><div id=\"sk-container-id-1\" class=\"sk-top-container\"><div class=\"sk-text-repr-fallback\"><pre>DecisionTreeClassifier(max_depth=6, min_samples_leaf=8, random_state=100)</pre><b>In a Jupyter environment, please rerun this cell to show the HTML representation or trust the notebook. <br />On GitHub, the HTML representation is unable to render, please try loading this page with nbviewer.org.</b></div><div class=\"sk-container\" hidden><div class=\"sk-item\"><div class=\"sk-estimator sk-toggleable\"><input class=\"sk-toggleable__control sk-hidden--visually\" id=\"sk-estimator-id-1\" type=\"checkbox\" checked><label for=\"sk-estimator-id-1\" class=\"sk-toggleable__label sk-toggleable__label-arrow\">DecisionTreeClassifier</label><div class=\"sk-toggleable__content\"><pre>DecisionTreeClassifier(max_depth=6, min_samples_leaf=8, random_state=100)</pre></div></div></div></div></div>"
      ],
      "text/plain": [
       "DecisionTreeClassifier(max_depth=6, min_samples_leaf=8, random_state=100)"
      ]
     },
     "execution_count": 32,
     "metadata": {},
     "output_type": "execute_result"
    }
   ],
   "source": [
    "model_dt.fit(X_train,y_train)"
   ]
  },
  {
   "cell_type": "code",
   "execution_count": 33,
   "id": "5680dcc1",
   "metadata": {},
   "outputs": [
    {
     "data": {
      "text/plain": [
       "array([0, 1, 0, ..., 0, 0, 1])"
      ]
     },
     "execution_count": 33,
     "metadata": {},
     "output_type": "execute_result"
    }
   ],
   "source": [
    "y_pred=model_dt.predict(X_test)\n",
    "y_pred"
   ]
  },
  {
   "cell_type": "code",
   "execution_count": 34,
   "id": "c9d36b77",
   "metadata": {},
   "outputs": [
    {
     "data": {
      "text/plain": [
       "0.7849538679914834"
      ]
     },
     "execution_count": 34,
     "metadata": {},
     "output_type": "execute_result"
    }
   ],
   "source": [
    "model_dt.score(X_test,y_test)"
   ]
  },
  {
   "cell_type": "code",
   "execution_count": 35,
   "id": "742a8e37",
   "metadata": {},
   "outputs": [
    {
     "name": "stdout",
     "output_type": "stream",
     "text": [
      "              precision    recall  f1-score   support\n",
      "\n",
      "           0       0.80      0.93      0.86      1029\n",
      "           1       0.68      0.38      0.49       380\n",
      "\n",
      "    accuracy                           0.78      1409\n",
      "   macro avg       0.74      0.66      0.68      1409\n",
      "weighted avg       0.77      0.78      0.76      1409\n",
      "\n"
     ]
    }
   ],
   "source": [
    "print(classification_report(y_test, y_pred, labels=[0,1]))"
   ]
  },
  {
   "cell_type": "markdown",
   "id": "0c83ee4b",
   "metadata": {},
   "source": [
    "As we can see in the above Decision Tree model, the accuracy is quite low (78%), and as it's an imbalanced dataset, we shouldn't consider Accuracy as our metrics to measure the model.\n",
    "\n",
    "Hence, we need to check recall, precision & f1 score for the minority class, and it's quite evident that the precision, recall & f1 score is too low for Class 1, i.e. Churned customers.\n",
    "\n",
    "Hence, moving ahead to call SMOTEENN (UpSampling + ENN)"
   ]
  },
  {
   "cell_type": "code",
   "execution_count": 38,
   "id": "8038a2df",
   "metadata": {},
   "outputs": [],
   "source": [
    "from imblearn.combine import SMOTEENN\n",
    "sm = SMOTEENN()\n",
    "X_resampled, y_resampled = sm.fit_resample(X,y)"
   ]
  },
  {
   "cell_type": "code",
   "execution_count": 39,
   "id": "8a42aca7",
   "metadata": {},
   "outputs": [],
   "source": [
    "xr_train,xr_test,yr_train,yr_test=train_test_split(X_resampled, y_resampled,test_size=0.2)"
   ]
  },
  {
   "cell_type": "code",
   "execution_count": 40,
   "id": "a3d73870",
   "metadata": {},
   "outputs": [],
   "source": [
    "model_dt_smote=DecisionTreeClassifier(criterion = \"gini\",random_state = 100,max_depth=6, min_samples_leaf=8)"
   ]
  },
  {
   "cell_type": "code",
   "execution_count": 41,
   "id": "cf51b964",
   "metadata": {},
   "outputs": [
    {
     "name": "stdout",
     "output_type": "stream",
     "text": [
      "0.9304274937133278\n",
      "              precision    recall  f1-score   support\n",
      "\n",
      "           0       0.91      0.93      0.92       526\n",
      "           1       0.95      0.93      0.94       667\n",
      "\n",
      "    accuracy                           0.93      1193\n",
      "   macro avg       0.93      0.93      0.93      1193\n",
      "weighted avg       0.93      0.93      0.93      1193\n",
      "\n"
     ]
    }
   ],
   "source": [
    "model_dt_smote.fit(xr_train,yr_train)\n",
    "yr_predict = model_dt_smote.predict(xr_test)\n",
    "model_score_r = model_dt_smote.score(xr_test, yr_test)\n",
    "print(model_score_r)\n",
    "print(metrics.classification_report(yr_test, yr_predict))"
   ]
  },
  {
   "cell_type": "code",
   "execution_count": 62,
   "id": "1ff6245a",
   "metadata": {},
   "outputs": [
    {
     "name": "stdout",
     "output_type": "stream",
     "text": [
      "[[490  36]\n",
      " [ 47 620]]\n"
     ]
    }
   ],
   "source": [
    "print(metrics.confusion_matrix(yr_test, yr_predict))"
   ]
  },
  {
   "cell_type": "markdown",
   "id": "ab3620ad",
   "metadata": {},
   "source": [
    "After SMOTEENNing, now we can see quite better results, i.e. Accuracy: 93.04 %, and a very good recall, precision & f1 score for minority class."
   ]
  },
  {
   "cell_type": "markdown",
   "id": "edc47b9f",
   "metadata": {},
   "source": [
    "Let's try with some other classifier."
   ]
  },
  {
   "cell_type": "markdown",
   "id": "23493a4b",
   "metadata": {},
   "source": [
    "# 2. Random Forest Classifier"
   ]
  },
  {
   "cell_type": "code",
   "execution_count": 43,
   "id": "918c616b",
   "metadata": {},
   "outputs": [],
   "source": [
    "from sklearn.ensemble import RandomForestClassifier"
   ]
  },
  {
   "cell_type": "code",
   "execution_count": 44,
   "id": "d759e8f5",
   "metadata": {},
   "outputs": [],
   "source": [
    "model_rf = RandomForestClassifier(n_estimators=100, criterion='gini',max_depth=6, min_samples_leaf=8)"
   ]
  },
  {
   "cell_type": "code",
   "execution_count": 46,
   "id": "7f6df323",
   "metadata": {},
   "outputs": [
    {
     "data": {
      "text/html": [
       "<style>#sk-container-id-2 {color: black;background-color: white;}#sk-container-id-2 pre{padding: 0;}#sk-container-id-2 div.sk-toggleable {background-color: white;}#sk-container-id-2 label.sk-toggleable__label {cursor: pointer;display: block;width: 100%;margin-bottom: 0;padding: 0.3em;box-sizing: border-box;text-align: center;}#sk-container-id-2 label.sk-toggleable__label-arrow:before {content: \"▸\";float: left;margin-right: 0.25em;color: #696969;}#sk-container-id-2 label.sk-toggleable__label-arrow:hover:before {color: black;}#sk-container-id-2 div.sk-estimator:hover label.sk-toggleable__label-arrow:before {color: black;}#sk-container-id-2 div.sk-toggleable__content {max-height: 0;max-width: 0;overflow: hidden;text-align: left;background-color: #f0f8ff;}#sk-container-id-2 div.sk-toggleable__content pre {margin: 0.2em;color: black;border-radius: 0.25em;background-color: #f0f8ff;}#sk-container-id-2 input.sk-toggleable__control:checked~div.sk-toggleable__content {max-height: 200px;max-width: 100%;overflow: auto;}#sk-container-id-2 input.sk-toggleable__control:checked~label.sk-toggleable__label-arrow:before {content: \"▾\";}#sk-container-id-2 div.sk-estimator input.sk-toggleable__control:checked~label.sk-toggleable__label {background-color: #d4ebff;}#sk-container-id-2 div.sk-label input.sk-toggleable__control:checked~label.sk-toggleable__label {background-color: #d4ebff;}#sk-container-id-2 input.sk-hidden--visually {border: 0;clip: rect(1px 1px 1px 1px);clip: rect(1px, 1px, 1px, 1px);height: 1px;margin: -1px;overflow: hidden;padding: 0;position: absolute;width: 1px;}#sk-container-id-2 div.sk-estimator {font-family: monospace;background-color: #f0f8ff;border: 1px dotted black;border-radius: 0.25em;box-sizing: border-box;margin-bottom: 0.5em;}#sk-container-id-2 div.sk-estimator:hover {background-color: #d4ebff;}#sk-container-id-2 div.sk-parallel-item::after {content: \"\";width: 100%;border-bottom: 1px solid gray;flex-grow: 1;}#sk-container-id-2 div.sk-label:hover label.sk-toggleable__label {background-color: #d4ebff;}#sk-container-id-2 div.sk-serial::before {content: \"\";position: absolute;border-left: 1px solid gray;box-sizing: border-box;top: 0;bottom: 0;left: 50%;z-index: 0;}#sk-container-id-2 div.sk-serial {display: flex;flex-direction: column;align-items: center;background-color: white;padding-right: 0.2em;padding-left: 0.2em;position: relative;}#sk-container-id-2 div.sk-item {position: relative;z-index: 1;}#sk-container-id-2 div.sk-parallel {display: flex;align-items: stretch;justify-content: center;background-color: white;position: relative;}#sk-container-id-2 div.sk-item::before, #sk-container-id-2 div.sk-parallel-item::before {content: \"\";position: absolute;border-left: 1px solid gray;box-sizing: border-box;top: 0;bottom: 0;left: 50%;z-index: -1;}#sk-container-id-2 div.sk-parallel-item {display: flex;flex-direction: column;z-index: 1;position: relative;background-color: white;}#sk-container-id-2 div.sk-parallel-item:first-child::after {align-self: flex-end;width: 50%;}#sk-container-id-2 div.sk-parallel-item:last-child::after {align-self: flex-start;width: 50%;}#sk-container-id-2 div.sk-parallel-item:only-child::after {width: 0;}#sk-container-id-2 div.sk-dashed-wrapped {border: 1px dashed gray;margin: 0 0.4em 0.5em 0.4em;box-sizing: border-box;padding-bottom: 0.4em;background-color: white;}#sk-container-id-2 div.sk-label label {font-family: monospace;font-weight: bold;display: inline-block;line-height: 1.2em;}#sk-container-id-2 div.sk-label-container {text-align: center;}#sk-container-id-2 div.sk-container {/* jupyter's `normalize.less` sets `[hidden] { display: none; }` but bootstrap.min.css set `[hidden] { display: none !important; }` so we also need the `!important` here to be able to override the default hidden behavior on the sphinx rendered scikit-learn.org. See: https://github.com/scikit-learn/scikit-learn/issues/21755 */display: inline-block !important;position: relative;}#sk-container-id-2 div.sk-text-repr-fallback {display: none;}</style><div id=\"sk-container-id-2\" class=\"sk-top-container\"><div class=\"sk-text-repr-fallback\"><pre>RandomForestClassifier(max_depth=6, min_samples_leaf=8)</pre><b>In a Jupyter environment, please rerun this cell to show the HTML representation or trust the notebook. <br />On GitHub, the HTML representation is unable to render, please try loading this page with nbviewer.org.</b></div><div class=\"sk-container\" hidden><div class=\"sk-item\"><div class=\"sk-estimator sk-toggleable\"><input class=\"sk-toggleable__control sk-hidden--visually\" id=\"sk-estimator-id-2\" type=\"checkbox\" checked><label for=\"sk-estimator-id-2\" class=\"sk-toggleable__label sk-toggleable__label-arrow\">RandomForestClassifier</label><div class=\"sk-toggleable__content\"><pre>RandomForestClassifier(max_depth=6, min_samples_leaf=8)</pre></div></div></div></div></div>"
      ],
      "text/plain": [
       "RandomForestClassifier(max_depth=6, min_samples_leaf=8)"
      ]
     },
     "execution_count": 46,
     "metadata": {},
     "output_type": "execute_result"
    }
   ],
   "source": [
    "model_rf.fit(X_train,y_train)"
   ]
  },
  {
   "cell_type": "code",
   "execution_count": 48,
   "id": "7ecaff28",
   "metadata": {},
   "outputs": [],
   "source": [
    "y_pred=model_rf.predict(X_test)"
   ]
  },
  {
   "cell_type": "code",
   "execution_count": 59,
   "id": "a599dc99",
   "metadata": {},
   "outputs": [
    {
     "data": {
      "text/plain": [
       "0.7984386089425124"
      ]
     },
     "execution_count": 59,
     "metadata": {},
     "output_type": "execute_result"
    }
   ],
   "source": [
    "model_rf.score(X_test,y_test)"
   ]
  },
  {
   "cell_type": "code",
   "execution_count": 50,
   "id": "6dceadac",
   "metadata": {},
   "outputs": [
    {
     "name": "stdout",
     "output_type": "stream",
     "text": [
      "              precision    recall  f1-score   support\n",
      "\n",
      "           0       0.83      0.92      0.87      1029\n",
      "           1       0.68      0.48      0.56       380\n",
      "\n",
      "    accuracy                           0.80      1409\n",
      "   macro avg       0.75      0.70      0.71      1409\n",
      "weighted avg       0.79      0.80      0.79      1409\n",
      "\n"
     ]
    }
   ],
   "source": [
    "print(classification_report(y_test, y_pred, labels=[0,1]))"
   ]
  },
  {
   "cell_type": "code",
   "execution_count": 52,
   "id": "be6e81c6",
   "metadata": {},
   "outputs": [],
   "source": [
    "sm = SMOTEENN()\n",
    "X_resampled1, y_resampled1 = sm.fit_resample(X,y)"
   ]
  },
  {
   "cell_type": "code",
   "execution_count": 53,
   "id": "497bb70f",
   "metadata": {},
   "outputs": [],
   "source": [
    "xr_train1,xr_test1,yr_train1,yr_test1=train_test_split(X_resampled1, y_resampled1,test_size=0.2)"
   ]
  },
  {
   "cell_type": "code",
   "execution_count": 54,
   "id": "3b8ace75",
   "metadata": {},
   "outputs": [],
   "source": [
    "model_rf_smote=RandomForestClassifier(n_estimators=100, criterion='gini',max_depth=6, min_samples_leaf=8)"
   ]
  },
  {
   "cell_type": "code",
   "execution_count": 60,
   "id": "b51d48c7",
   "metadata": {},
   "outputs": [
    {
     "name": "stdout",
     "output_type": "stream",
     "text": [
      "0.9297071129707113\n",
      "              precision    recall  f1-score   support\n",
      "\n",
      "           0       0.94      0.91      0.92       560\n",
      "           1       0.92      0.95      0.93       635\n",
      "\n",
      "    accuracy                           0.93      1195\n",
      "   macro avg       0.93      0.93      0.93      1195\n",
      "weighted avg       0.93      0.93      0.93      1195\n",
      "\n"
     ]
    }
   ],
   "source": [
    "model_rf_smote.fit(xr_train1,yr_train1)\n",
    "yr_predict1 = model_rf_smote.predict(xr_test1)\n",
    "model_score_r1 = model_rf_smote.score(xr_test1, yr_test1)\n",
    "print(model_score_r1)\n",
    "print(metrics.classification_report(yr_test1, yr_predict1))"
   ]
  },
  {
   "cell_type": "code",
   "execution_count": 61,
   "id": "73e212ba",
   "metadata": {},
   "outputs": [
    {
     "name": "stdout",
     "output_type": "stream",
     "text": [
      "[[507  53]\n",
      " [ 31 604]]\n"
     ]
    }
   ],
   "source": [
    "print(metrics.confusion_matrix(yr_test1, yr_predict1))"
   ]
  },
  {
   "cell_type": "markdown",
   "id": "68b1cea9",
   "metadata": {},
   "source": [
    "With Random Forest Classifier, we are getting good accuracy but not as accurate as we found in Decision Tree after Smoteenn. "
   ]
  },
  {
   "cell_type": "markdown",
   "id": "c39b658d",
   "metadata": {},
   "source": [
    "# 3. Logistic regression"
   ]
  },
  {
   "cell_type": "code",
   "execution_count": 63,
   "id": "6f1d58e5",
   "metadata": {},
   "outputs": [],
   "source": [
    "from sklearn.linear_model import LogisticRegression"
   ]
  },
  {
   "cell_type": "code",
   "execution_count": 64,
   "id": "b81f5d63",
   "metadata": {},
   "outputs": [],
   "source": [
    "lm = LogisticRegression(random_state=0, max_iter=1000, solver='lbfgs')"
   ]
  },
  {
   "cell_type": "code",
   "execution_count": 65,
   "id": "6a140409",
   "metadata": {},
   "outputs": [
    {
     "data": {
      "text/html": [
       "<style>#sk-container-id-4 {color: black;background-color: white;}#sk-container-id-4 pre{padding: 0;}#sk-container-id-4 div.sk-toggleable {background-color: white;}#sk-container-id-4 label.sk-toggleable__label {cursor: pointer;display: block;width: 100%;margin-bottom: 0;padding: 0.3em;box-sizing: border-box;text-align: center;}#sk-container-id-4 label.sk-toggleable__label-arrow:before {content: \"▸\";float: left;margin-right: 0.25em;color: #696969;}#sk-container-id-4 label.sk-toggleable__label-arrow:hover:before {color: black;}#sk-container-id-4 div.sk-estimator:hover label.sk-toggleable__label-arrow:before {color: black;}#sk-container-id-4 div.sk-toggleable__content {max-height: 0;max-width: 0;overflow: hidden;text-align: left;background-color: #f0f8ff;}#sk-container-id-4 div.sk-toggleable__content pre {margin: 0.2em;color: black;border-radius: 0.25em;background-color: #f0f8ff;}#sk-container-id-4 input.sk-toggleable__control:checked~div.sk-toggleable__content {max-height: 200px;max-width: 100%;overflow: auto;}#sk-container-id-4 input.sk-toggleable__control:checked~label.sk-toggleable__label-arrow:before {content: \"▾\";}#sk-container-id-4 div.sk-estimator input.sk-toggleable__control:checked~label.sk-toggleable__label {background-color: #d4ebff;}#sk-container-id-4 div.sk-label input.sk-toggleable__control:checked~label.sk-toggleable__label {background-color: #d4ebff;}#sk-container-id-4 input.sk-hidden--visually {border: 0;clip: rect(1px 1px 1px 1px);clip: rect(1px, 1px, 1px, 1px);height: 1px;margin: -1px;overflow: hidden;padding: 0;position: absolute;width: 1px;}#sk-container-id-4 div.sk-estimator {font-family: monospace;background-color: #f0f8ff;border: 1px dotted black;border-radius: 0.25em;box-sizing: border-box;margin-bottom: 0.5em;}#sk-container-id-4 div.sk-estimator:hover {background-color: #d4ebff;}#sk-container-id-4 div.sk-parallel-item::after {content: \"\";width: 100%;border-bottom: 1px solid gray;flex-grow: 1;}#sk-container-id-4 div.sk-label:hover label.sk-toggleable__label {background-color: #d4ebff;}#sk-container-id-4 div.sk-serial::before {content: \"\";position: absolute;border-left: 1px solid gray;box-sizing: border-box;top: 0;bottom: 0;left: 50%;z-index: 0;}#sk-container-id-4 div.sk-serial {display: flex;flex-direction: column;align-items: center;background-color: white;padding-right: 0.2em;padding-left: 0.2em;position: relative;}#sk-container-id-4 div.sk-item {position: relative;z-index: 1;}#sk-container-id-4 div.sk-parallel {display: flex;align-items: stretch;justify-content: center;background-color: white;position: relative;}#sk-container-id-4 div.sk-item::before, #sk-container-id-4 div.sk-parallel-item::before {content: \"\";position: absolute;border-left: 1px solid gray;box-sizing: border-box;top: 0;bottom: 0;left: 50%;z-index: -1;}#sk-container-id-4 div.sk-parallel-item {display: flex;flex-direction: column;z-index: 1;position: relative;background-color: white;}#sk-container-id-4 div.sk-parallel-item:first-child::after {align-self: flex-end;width: 50%;}#sk-container-id-4 div.sk-parallel-item:last-child::after {align-self: flex-start;width: 50%;}#sk-container-id-4 div.sk-parallel-item:only-child::after {width: 0;}#sk-container-id-4 div.sk-dashed-wrapped {border: 1px dashed gray;margin: 0 0.4em 0.5em 0.4em;box-sizing: border-box;padding-bottom: 0.4em;background-color: white;}#sk-container-id-4 div.sk-label label {font-family: monospace;font-weight: bold;display: inline-block;line-height: 1.2em;}#sk-container-id-4 div.sk-label-container {text-align: center;}#sk-container-id-4 div.sk-container {/* jupyter's `normalize.less` sets `[hidden] { display: none; }` but bootstrap.min.css set `[hidden] { display: none !important; }` so we also need the `!important` here to be able to override the default hidden behavior on the sphinx rendered scikit-learn.org. See: https://github.com/scikit-learn/scikit-learn/issues/21755 */display: inline-block !important;position: relative;}#sk-container-id-4 div.sk-text-repr-fallback {display: none;}</style><div id=\"sk-container-id-4\" class=\"sk-top-container\"><div class=\"sk-text-repr-fallback\"><pre>LogisticRegression(max_iter=1000, random_state=0)</pre><b>In a Jupyter environment, please rerun this cell to show the HTML representation or trust the notebook. <br />On GitHub, the HTML representation is unable to render, please try loading this page with nbviewer.org.</b></div><div class=\"sk-container\" hidden><div class=\"sk-item\"><div class=\"sk-estimator sk-toggleable\"><input class=\"sk-toggleable__control sk-hidden--visually\" id=\"sk-estimator-id-4\" type=\"checkbox\" checked><label for=\"sk-estimator-id-4\" class=\"sk-toggleable__label sk-toggleable__label-arrow\">LogisticRegression</label><div class=\"sk-toggleable__content\"><pre>LogisticRegression(max_iter=1000, random_state=0)</pre></div></div></div></div></div>"
      ],
      "text/plain": [
       "LogisticRegression(max_iter=1000, random_state=0)"
      ]
     },
     "execution_count": 65,
     "metadata": {},
     "output_type": "execute_result"
    }
   ],
   "source": [
    "lm.fit(X_train, y_train)"
   ]
  },
  {
   "cell_type": "code",
   "execution_count": 66,
   "id": "52fe5ddf",
   "metadata": {},
   "outputs": [],
   "source": [
    "y_pred = lm.predict(X_test)"
   ]
  },
  {
   "cell_type": "code",
   "execution_count": 67,
   "id": "212d7382",
   "metadata": {},
   "outputs": [
    {
     "name": "stdout",
     "output_type": "stream",
     "text": [
      "              precision    recall  f1-score   support\n",
      "\n",
      "           0       0.84      0.89      0.86      1029\n",
      "           1       0.65      0.55      0.59       380\n",
      "\n",
      "    accuracy                           0.80      1409\n",
      "   macro avg       0.74      0.72      0.73      1409\n",
      "weighted avg       0.79      0.80      0.79      1409\n",
      "\n"
     ]
    }
   ],
   "source": [
    "print(classification_report(y_test, y_pred))"
   ]
  },
  {
   "cell_type": "code",
   "execution_count": 68,
   "id": "2c192d56",
   "metadata": {},
   "outputs": [],
   "source": [
    "sm = SMOTEENN()\n",
    "X_resampled2, y_resampled2 = sm.fit_resample(X,y)"
   ]
  },
  {
   "cell_type": "code",
   "execution_count": 69,
   "id": "b7333fb6",
   "metadata": {},
   "outputs": [],
   "source": [
    "xr_train2,xr_test2,yr_train2,yr_test2=train_test_split(X_resampled2, y_resampled2,test_size=0.2)"
   ]
  },
  {
   "cell_type": "code",
   "execution_count": 70,
   "id": "51fc552f",
   "metadata": {},
   "outputs": [],
   "source": [
    "model_lr_smote=LogisticRegression(random_state=0, max_iter=1000, solver='lbfgs')"
   ]
  },
  {
   "cell_type": "code",
   "execution_count": 71,
   "id": "203ed957",
   "metadata": {},
   "outputs": [
    {
     "name": "stdout",
     "output_type": "stream",
     "text": [
      "0.9307756463719766\n",
      "              precision    recall  f1-score   support\n",
      "\n",
      "           0       0.92      0.93      0.92       547\n",
      "           1       0.94      0.94      0.94       652\n",
      "\n",
      "    accuracy                           0.93      1199\n",
      "   macro avg       0.93      0.93      0.93      1199\n",
      "weighted avg       0.93      0.93      0.93      1199\n",
      "\n"
     ]
    }
   ],
   "source": [
    "model_lr_smote.fit(xr_train2,yr_train2)\n",
    "yr_predict2 = model_lr_smote.predict(xr_test2)\n",
    "model_score_r1 = model_lr_smote.score(xr_test2, yr_test2)\n",
    "print(model_score_r1)\n",
    "print(metrics.classification_report(yr_test2, yr_predict2))"
   ]
  },
  {
   "cell_type": "markdown",
   "id": "def5c60f",
   "metadata": {},
   "source": [
    "Logistic Regression model accuracy (93.07%) is almost similar to Decision Tree Model (93.04%). So we can go with either of the two.  "
   ]
  },
  {
   "cell_type": "markdown",
   "id": "3b7bf1fc",
   "metadata": {},
   "source": [
    "Let's go ahead with *Logistic Regression Model* and save the model for further use."
   ]
  },
  {
   "cell_type": "markdown",
   "id": "a6a13db0",
   "metadata": {},
   "source": [
    "# Saving the Model"
   ]
  },
  {
   "cell_type": "code",
   "execution_count": 73,
   "id": "e563851c",
   "metadata": {},
   "outputs": [],
   "source": [
    "import pickle"
   ]
  },
  {
   "cell_type": "code",
   "execution_count": 74,
   "id": "e45013e3",
   "metadata": {},
   "outputs": [],
   "source": [
    "filename = 'model.sav'\n",
    "pickle.dump(model_lr_smote, open(filename, 'wb'))"
   ]
  },
  {
   "cell_type": "code",
   "execution_count": 75,
   "id": "7f1ad0a4",
   "metadata": {},
   "outputs": [],
   "source": [
    "load_model = pickle.load(open(filename, 'rb'))"
   ]
  },
  {
   "cell_type": "code",
   "execution_count": 76,
   "id": "207b89f4",
   "metadata": {},
   "outputs": [],
   "source": [
    "model_score_r1 = load_model.score(xr_test2, yr_test2)"
   ]
  },
  {
   "cell_type": "code",
   "execution_count": 77,
   "id": "c5a05e30",
   "metadata": {},
   "outputs": [
    {
     "data": {
      "text/plain": [
       "0.9307756463719766"
      ]
     },
     "execution_count": 77,
     "metadata": {},
     "output_type": "execute_result"
    }
   ],
   "source": [
    "model_score_r1"
   ]
  },
  {
   "cell_type": "markdown",
   "id": "87caa40b",
   "metadata": {},
   "source": [
    "Our final model i.e. *Logistic Regression with SMOTEENN*, is now ready and dumped in model.sav, which we will use and prepare API's so that we can access our model from UI."
   ]
  },
  {
   "cell_type": "code",
   "execution_count": null,
   "id": "bb127041",
   "metadata": {},
   "outputs": [],
   "source": []
  }
 ],
 "metadata": {
  "kernelspec": {
   "display_name": "Python 3 (ipykernel)",
   "language": "python",
   "name": "python3"
  },
  "language_info": {
   "codemirror_mode": {
    "name": "ipython",
    "version": 3
   },
   "file_extension": ".py",
   "mimetype": "text/x-python",
   "name": "python",
   "nbconvert_exporter": "python",
   "pygments_lexer": "ipython3",
   "version": "3.9.7"
  }
 },
 "nbformat": 4,
 "nbformat_minor": 5
}
